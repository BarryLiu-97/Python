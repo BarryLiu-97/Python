{
  "nbformat": 4,
  "nbformat_minor": 0,
  "metadata": {
    "colab": {
      "name": "numpy_exp.ipynb",
      "provenance": [],
      "authorship_tag": "ABX9TyNmcFaj8LIz0zMtWQjrpgs7",
      "include_colab_link": true
    },
    "kernelspec": {
      "name": "python3",
      "display_name": "Python 3"
    }
  },
  "cells": [
    {
      "cell_type": "markdown",
      "metadata": {
        "id": "view-in-github",
        "colab_type": "text"
      },
      "source": [
        "<a href=\"https://colab.research.google.com/github/BarryLiu-97/Python/blob/master/numpy_exp.ipynb\" target=\"_parent\"><img src=\"https://colab.research.google.com/assets/colab-badge.svg\" alt=\"Open In Colab\"/></a>"
      ]
    },
    {
      "cell_type": "code",
      "metadata": {
        "id": "kwhO4kBC0O7K",
        "colab_type": "code",
        "colab": {}
      },
      "source": [
        "import numpy as np"
      ],
      "execution_count": 0,
      "outputs": []
    },
    {
      "cell_type": "markdown",
      "metadata": {
        "id": "bBsAiUpv8Zl6",
        "colab_type": "text"
      },
      "source": [
        "导入numpy模块"
      ]
    },
    {
      "cell_type": "code",
      "metadata": {
        "id": "JMCxKgIq8iVx",
        "colab_type": "code",
        "colab": {}
      },
      "source": [
        "array = np.array([[1,2,3],                \n",
        "          [2,3,4]])   #创建numpy矩阵\n",
        "print(array)\n",
        "print('dimension:', array.ndim)  #矩阵维度\n",
        "print('shape:', array.shape)   #矩阵形状\n",
        "print('size', array.size)     #矩阵大小"
      ],
      "execution_count": 0,
      "outputs": []
    },
    {
      "cell_type": "code",
      "metadata": {
        "id": "HYsTLTyJgZtk",
        "colab_type": "code",
        "colab": {
          "base_uri": "https://localhost:8080/",
          "height": 34
        },
        "outputId": "d4a6f3e4-971f-45a4-f6ba-5e9feb7b4368"
      },
      "source": [
        "a = np.array([2,3,4], dtype=np.int32) \n",
        "print(a.dtype)"
      ],
      "execution_count": 6,
      "outputs": [
        {
          "output_type": "stream",
          "text": [
            "int64\n"
          ],
          "name": "stdout"
        }
      ]
    },
    {
      "cell_type": "markdown",
      "metadata": {
        "id": "BpBMFzpog_IT",
        "colab_type": "text"
      },
      "source": [
        "dtype:int 默认64位 float 默认64位\n",
        "   int16 int32 float16 float32"
      ]
    },
    {
      "cell_type": "code",
      "metadata": {
        "id": "k0rmjH3Fhha_",
        "colab_type": "code",
        "colab": {}
      },
      "source": [
        "zero_matrix = np.zeros((3,5))\n",
        "print(zero_matrix)"
      ],
      "execution_count": 0,
      "outputs": []
    },
    {
      "cell_type": "markdown",
      "metadata": {
        "id": "hE9IYQymipVL",
        "colab_type": "text"
      },
      "source": [
        "创建3*5的元素都为0的矩阵"
      ]
    },
    {
      "cell_type": "code",
      "metadata": {
        "id": "BxrHzcnDh9Cy",
        "colab_type": "code",
        "colab": {}
      },
      "source": [
        "one_matrix = np.ones((3,5), dtype = np.int16)\n",
        "print(one_matrix)"
      ],
      "execution_count": 0,
      "outputs": []
    },
    {
      "cell_type": "markdown",
      "metadata": {
        "id": "vVGQqbehii7q",
        "colab_type": "text"
      },
      "source": [
        "创建3*5的元素都为1的矩阵"
      ]
    },
    {
      "cell_type": "code",
      "metadata": {
        "id": "fVOZUTodkxgY",
        "colab_type": "code",
        "colab": {}
      },
      "source": [
        "empty_matrix = np.empty((3,6))\n",
        "print(empty_matrix)"
      ],
      "execution_count": 0,
      "outputs": []
    },
    {
      "cell_type": "markdown",
      "metadata": {
        "id": "t4sAxkiLisVx",
        "colab_type": "text"
      },
      "source": [
        "创建3*5的元素为空的矩阵，其实生成的是十分接近于0的元素不懂为什么用Colab时候矩阵大小设置为3×5生成的是元素为1的矩阵，但是用Spyder等还是OK的。"
      ]
    },
    {
      "cell_type": "code",
      "metadata": {
        "id": "xtrLt_O_iKNj",
        "colab_type": "code",
        "colab": {}
      },
      "source": [
        "range_matrix = np.arange(10,20,2)\n",
        "print(range_matrix)"
      ],
      "execution_count": 0,
      "outputs": []
    },
    {
      "cell_type": "code",
      "metadata": {
        "id": "a5PQSM_PiX9l",
        "colab_type": "code",
        "colab": {}
      },
      "source": [
        "range_matrix_2 = np.arange(12).reshape((3,4))\n",
        "print(range_matrix_2)"
      ],
      "execution_count": 0,
      "outputs": []
    },
    {
      "cell_type": "code",
      "metadata": {
        "id": "aN51uzgenKi9",
        "colab_type": "code",
        "colab": {}
      },
      "source": [
        "line_matrix = np.linspace(1,10,5, dtype = np.float32)\n",
        "print(line_matrix)"
      ],
      "execution_count": 0,
      "outputs": []
    },
    {
      "cell_type": "markdown",
      "metadata": {
        "id": "fV0S_L22oB46",
        "colab_type": "text"
      },
      "source": [
        "生成一个线段，起始为1，终止为10，一共生成5个点"
      ]
    },
    {
      "cell_type": "code",
      "metadata": {
        "id": "T741150zoP99",
        "colab_type": "code",
        "colab": {
          "base_uri": "https://localhost:8080/",
          "height": 84
        },
        "outputId": "a74e886c-61df-49da-dfa6-84a019543963"
      },
      "source": [
        "a = np.array([10,20,30,40])\n",
        "b = np.arange(4)\n",
        "c = a + b\n",
        "print(c)\n",
        "d = a - b\n",
        "print(d)\n",
        "e = b**2\n",
        "print(e)\n",
        "f = 10*np.sin(a)\n",
        "print(f)"
      ],
      "execution_count": 55,
      "outputs": [
        {
          "output_type": "stream",
          "text": [
            "[10 21 32 43]\n",
            "[10 19 28 37]\n",
            "[0 1 4 9]\n",
            "[-5.44021111  9.12945251 -9.88031624  7.4511316 ]\n"
          ],
          "name": "stdout"
        }
      ]
    }
  ]
}